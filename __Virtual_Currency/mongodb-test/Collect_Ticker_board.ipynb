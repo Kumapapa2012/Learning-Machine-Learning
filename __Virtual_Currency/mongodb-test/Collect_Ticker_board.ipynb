{
 "cells": [
  {
   "cell_type": "code",
   "execution_count": 10,
   "metadata": {
    "collapsed": true
   },
   "outputs": [],
   "source": [
    "# Collect Data\n",
    "# 1. Ticker \n",
    "# 2. Board\n",
    "import Test_bitflyer as bf\n",
    "import pymongo as MongoClient\n",
    "import operator\n",
    "import re\n",
    "from datetime import datetime\n",
    "from time import sleep\n",
    "from pymongo import MongoClient \n"
   ]
  },
  {
   "cell_type": "code",
   "execution_count": 11,
   "metadata": {
    "collapsed": true
   },
   "outputs": [],
   "source": [
    "markets_all = bf.getMarkets_bf() "
   ]
  },
  {
   "cell_type": "code",
   "execution_count": 12,
   "metadata": {
    "collapsed": true
   },
   "outputs": [],
   "source": [
    "# markets_all"
   ]
  },
  {
   "cell_type": "code",
   "execution_count": 13,
   "metadata": {
    "collapsed": true
   },
   "outputs": [],
   "source": [
    "markets_timestamp_utc=markets_all[0]\n",
    "#print(market_timestamp_utc)"
   ]
  },
  {
   "cell_type": "code",
   "execution_count": 14,
   "metadata": {
    "collapsed": true
   },
   "outputs": [],
   "source": [
    "# マーケット一覧から先物を除外:product_code最後の9文字で判断する。\n",
    "r = re.compile('[0-9]{2}[A-Z]{3}[0-9]{2}')\n",
    "markets= list(filter(lambda item: not r.match(item['product_code'][-9:]), markets_all[1]))\n"
   ]
  },
  {
   "cell_type": "code",
   "execution_count": 15,
   "metadata": {
    "collapsed": true
   },
   "outputs": [],
   "source": [
    "# Mongo DB \n",
    "mongo_db_name='bf'\n",
    "mongo_dataset_name='_ticker_board01'\n",
    "\n",
    "\n",
    "dbc = MongoClient()\n",
    "# Open DB\n",
    "db=dbc[mongo_db_name]\n",
    "\n",
    "# Dataset\n",
    "ds=db[mongo_dataset_name]\n",
    "#\n",
    "#ds.create_index('_timestamp')"
   ]
  },
  {
   "cell_type": "code",
   "execution_count": 16,
   "metadata": {
    "collapsed": true
   },
   "outputs": [],
   "source": [
    "max_age_of_data=21600 # 6 hours.\n",
    "\n"
   ]
  },
  {
   "cell_type": "code",
   "execution_count": null,
   "metadata": {
    "collapsed": true
   },
   "outputs": [],
   "source": [
    "# とりあえず 500 とってみよう。500xproducts\n",
    "#for i in range(0,500):\n",
    "#Infinite Loop!\n",
    "while True:\n",
    "    #間隔を開けるため(3sec)\n",
    "    sleep(3)\n",
    "    for mkt in markets:\n",
    "        _tb_timestamp=datetime.now()\n",
    "        _pdct=mkt['product_code']\n",
    "        try:\n",
    "            _ticker=bf.getTicker_bf(_pdct)\n",
    "            _board=bf.getBoard_bf(_pdct)\n",
    "        except Exception as e:\n",
    "            print ('=== エラー内容 ===')\n",
    "            print ('type:' + str(type(e)))\n",
    "            print ('args:' + str(e.args))\n",
    "            print ('message:' + e.message)\n",
    "            print ('e自身:' + str(e))\n",
    "            continue\n",
    "        db_entry = {'_timestamp':_tb_timestamp,'_product':_pdct,'_ticker':_ticker,'_board':_board}\n",
    "        ds.insert_one(db_entry)\n",
    "    # Cleanup Old Data\n",
    "    # 学習データ収集中はコメントアウト\n",
    "    #_tstamp=datetime.now()-timedelta(seconds=max_age_of_data)\n",
    "    #ds.delete_many({'_timestamp':{'$lt':_tstamp}})\n"
   ]
  },
  {
   "cell_type": "code",
   "execution_count": 9,
   "metadata": {
    "collapsed": true
   },
   "outputs": [],
   "source": [
    "# ds.drop()"
   ]
  },
  {
   "cell_type": "code",
   "execution_count": null,
   "metadata": {
    "collapsed": true
   },
   "outputs": [],
   "source": []
  }
 ],
 "metadata": {
  "kernelspec": {
   "display_name": "Environment (conda_python352-ml)",
   "language": "python",
   "name": "conda_python352-ml"
  },
  "language_info": {
   "codemirror_mode": {
    "name": "ipython",
    "version": 3
   },
   "file_extension": ".py",
   "mimetype": "text/x-python",
   "name": "python",
   "nbconvert_exporter": "python",
   "pygments_lexer": "ipython3",
   "version": "3.5.2"
  }
 },
 "nbformat": 4,
 "nbformat_minor": 2
}
