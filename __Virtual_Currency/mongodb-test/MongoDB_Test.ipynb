{
 "cells": [
  {
   "cell_type": "code",
   "execution_count": 2,
   "metadata": {
    "collapsed": true
   },
   "outputs": [],
   "source": [
    "import pymongo\n",
    "import urllib.request\n",
    "import json\n",
    "import datetime\n",
    "import time\n",
    "# HTTP ヘッダの　RFC2822　日付用に\n",
    "from email.utils import parsedate_to_datetime\n",
    "# Test: Get public info\n",
    "endPoint_bf='https://api.bitflyer.jp'\n"
   ]
  },
  {
   "cell_type": "code",
   "execution_count": 3,
   "metadata": {
    "collapsed": true
   },
   "outputs": [],
   "source": [
    "# Test: Get public info\n",
    "endPoint_bf='https://api.bitflyer.jp'\n",
    "\n",
    "def getResponse_bf(path):\n",
    "    global endPoint_bf\n",
    "    url=endPoint_bf+path\n",
    "    response=urllib.request.urlopen(url)\n",
    "    res_date=parsedate_to_datetime(response.headers['date'])\n",
    "    content = json.loads(response.read().decode('utf8'))\n",
    "    return res_date,content\n",
    "\n",
    "def getResponse_private_bf(path):\n",
    "    pass\n"
   ]
  },
  {
   "cell_type": "code",
   "execution_count": 4,
   "metadata": {},
   "outputs": [
    {
     "name": "stdout",
     "output_type": "stream",
     "text": [
      "UTC 日時:2017-08-28 15:19:58\n"
     ]
    },
    {
     "data": {
      "text/plain": [
       "[{'product_code': 'BTC_JPY'},\n",
       " {'product_code': 'FX_BTC_JPY'},\n",
       " {'product_code': 'ETH_BTC'},\n",
       " {'product_code': 'BCH_BTC'},\n",
       " {'alias': 'BTCJPY_MAT1WK', 'product_code': 'BTCJPY01SEP2017'},\n",
       " {'alias': 'BTCJPY_MAT2WK', 'product_code': 'BTCJPY08SEP2017'}]"
      ]
     },
     "execution_count": 4,
     "metadata": {},
     "output_type": "execute_result"
    }
   ],
   "source": [
    "# Public なもの\n",
    "# 取り扱いマーケットの取得\n",
    "def getMarkets_bf():\n",
    "    path_Markets='/v1/markets'\n",
    "    getResponse_bf(path_Markets)\n",
    "    res_date,json_data = getResponse_bf(path_Markets)\n",
    "    return res_date,json_data\n",
    "\n",
    "res_date,markets=getMarkets_bf()\n",
    "print(\"UTC 日時:{0:%Y-%m-%d %H:%M:%S}\".format(res_date))\n",
    "markets"
   ]
  },
  {
   "cell_type": "code",
   "execution_count": 5,
   "metadata": {},
   "outputs": [
    {
     "name": "stdout",
     "output_type": "stream",
     "text": [
      "日時:2017-08-29 00:20:00\n",
      "売り:472321.0\n",
      "買い:471835.0\n"
     ]
    }
   ],
   "source": [
    "# マーケットごとのTickerをとる\n",
    "def getTicker_bf(product_code):\n",
    "    global endPoint_bf\n",
    "    path='/v1/ticker'\n",
    "    query='?product_code='+product_code\n",
    "    url=endPoint_bf+path+query\n",
    "    response=urllib.request.urlopen(url)\n",
    "    board = json.loads(response.read().decode('utf8'))\n",
    "    return board\n",
    "\n",
    "\n",
    "print(\"日時:{0:%Y-%m-%d %H:%M:%S}\".format(datetime.datetime.now()))\n",
    "ticker_BTC_JPY=getTicker_bf('BTC_JPY')\n",
    "print(\"売り:{0}\".format(ticker_BTC_JPY.get('best_ask')))\n",
    "print(\"買い:{0}\".format(ticker_BTC_JPY.get('best_bid')))"
   ]
  },
  {
   "cell_type": "code",
   "execution_count": 6,
   "metadata": {},
   "outputs": [
    {
     "data": {
      "text/plain": [
       "{'best_ask': 472321.0,\n",
       " 'best_ask_size': 0.95,\n",
       " 'best_bid': 471835.0,\n",
       " 'best_bid_size': 0.12510788,\n",
       " 'ltp': 471802.0,\n",
       " 'product_code': 'BTC_JPY',\n",
       " 'tick_id': 2942407,\n",
       " 'timestamp': '2017-08-28T15:19:59.363',\n",
       " 'total_ask_depth': 2095.97013627,\n",
       " 'total_bid_depth': 4347.2128412,\n",
       " 'volume': 89317.76824402,\n",
       " 'volume_by_product': 8738.7942482}"
      ]
     },
     "execution_count": 6,
     "metadata": {},
     "output_type": "execute_result"
    }
   ],
   "source": [
    "ticker_BTC_JPY"
   ]
  },
  {
   "cell_type": "code",
   "execution_count": 7,
   "metadata": {
    "collapsed": true
   },
   "outputs": [],
   "source": [
    "client = pymongo.MongoClient()\n"
   ]
  },
  {
   "cell_type": "code",
   "execution_count": 8,
   "metadata": {},
   "outputs": [
    {
     "data": {
      "text/plain": [
       "'kmori_sample'"
      ]
     },
     "execution_count": 8,
     "metadata": {},
     "output_type": "execute_result"
    }
   ],
   "source": [
    "sample_db=client.kmori_sample\n",
    "sample_db.name"
   ]
  },
  {
   "cell_type": "code",
   "execution_count": 10,
   "metadata": {
    "collapsed": true
   },
   "outputs": [],
   "source": [
    "my_first_collection=sample_db.my_first_collection"
   ]
  },
  {
   "cell_type": "code",
   "execution_count": 11,
   "metadata": {},
   "outputs": [
    {
     "data": {
      "text/plain": [
       "<pymongo.results.InsertOneResult at 0x7f5f282e6488>"
      ]
     },
     "execution_count": 11,
     "metadata": {},
     "output_type": "execute_result"
    }
   ],
   "source": [
    "my_first_collection.insert_one(ticker_BTC_JPY)"
   ]
  },
  {
   "cell_type": "code",
   "execution_count": 12,
   "metadata": {},
   "outputs": [
    {
     "data": {
      "text/plain": [
       "Collection(Database(MongoClient(host=['localhost:27017'], document_class=dict, tz_aware=False, connect=True), 'kmori_sample'), 'my_first_collection')"
      ]
     },
     "execution_count": 12,
     "metadata": {},
     "output_type": "execute_result"
    }
   ],
   "source": [
    "my_first_collection"
   ]
  },
  {
   "cell_type": "code",
   "execution_count": 13,
   "metadata": {},
   "outputs": [
    {
     "data": {
      "text/plain": [
       "[{'_id': ObjectId('599fd354d28d8b2e8211c79b'),\n",
       "  'best_ask': 475100.0,\n",
       "  'best_ask_size': 0.0163798,\n",
       "  'best_bid': 475060.0,\n",
       "  'best_bid_size': 0.5,\n",
       "  'ltp': 475100.0,\n",
       "  'product_code': 'BTC_JPY',\n",
       "  'tick_id': 530022,\n",
       "  'timestamp': '2017-08-25T07:32:01.24',\n",
       "  'total_ask_depth': 1732.82717983,\n",
       "  'total_bid_depth': 4861.81349767,\n",
       "  'volume': 101353.97831004,\n",
       "  'volume_by_product': 10445.50170124},\n",
       " {'_id': ObjectId('599fd42ed28d8b2e8211c79c'),\n",
       "  'best_ask': 475404.0,\n",
       "  'best_ask_size': 0.4849339,\n",
       "  'best_bid': 475007.0,\n",
       "  'best_bid_size': 0.80008001,\n",
       "  'ltp': 475411.0,\n",
       "  'product_code': 'BTC_JPY',\n",
       "  'tick_id': 533556,\n",
       "  'timestamp': '2017-08-25T07:39:21.733',\n",
       "  'total_ask_depth': 1727.70998439,\n",
       "  'total_bid_depth': 4890.56948068,\n",
       "  'volume': 100868.920567,\n",
       "  'volume_by_product': 10415.21102697},\n",
       " {'_id': ObjectId('59a433dad28d8b112ee91ab9'),\n",
       "  'best_ask': 472388.0,\n",
       "  'best_ask_size': 0.12777706,\n",
       "  'best_bid': 472000.0,\n",
       "  'best_bid_size': 0.018,\n",
       "  'ltp': 472000.0,\n",
       "  'product_code': 'BTC_JPY',\n",
       "  'tick_id': 2940678,\n",
       "  'timestamp': '2017-08-28T15:16:07.353',\n",
       "  'total_ask_depth': 2100.06768456,\n",
       "  'total_bid_depth': 4370.26500091,\n",
       "  'volume': 89384.80030649,\n",
       "  'volume_by_product': 8744.63870759},\n",
       " {'_id': ObjectId('59a434bed28d8b11aaada9e6'),\n",
       "  'best_ask': 472321.0,\n",
       "  'best_ask_size': 0.95,\n",
       "  'best_bid': 471835.0,\n",
       "  'best_bid_size': 0.12510788,\n",
       "  'ltp': 471802.0,\n",
       "  'product_code': 'BTC_JPY',\n",
       "  'tick_id': 2942407,\n",
       "  'timestamp': '2017-08-28T15:19:59.363',\n",
       "  'total_ask_depth': 2095.97013627,\n",
       "  'total_bid_depth': 4347.2128412,\n",
       "  'volume': 89317.76824402,\n",
       "  'volume_by_product': 8738.7942482}]"
      ]
     },
     "execution_count": 13,
     "metadata": {},
     "output_type": "execute_result"
    }
   ],
   "source": [
    "list(my_first_collection.find())"
   ]
  },
  {
   "cell_type": "code",
   "execution_count": null,
   "metadata": {
    "collapsed": true
   },
   "outputs": [],
   "source": []
  }
 ],
 "metadata": {
  "kernelspec": {
   "display_name": "Environment (conda_python352-ml)",
   "language": "python",
   "name": "conda_python352-ml"
  },
  "language_info": {
   "codemirror_mode": {
    "name": "ipython",
    "version": 3
   },
   "file_extension": ".py",
   "mimetype": "text/x-python",
   "name": "python",
   "nbconvert_exporter": "python",
   "pygments_lexer": "ipython3",
   "version": "3.5.2"
  }
 },
 "nbformat": 4,
 "nbformat_minor": 2
}
